{
 "cells": [
  {
   "cell_type": "code",
   "execution_count": 26,
   "id": "0481c65b",
   "metadata": {},
   "outputs": [],
   "source": [
    "import pandas as pd\n",
    "import difflib\n",
    "from sklearn.feature_extraction.text import TfidfVectorizer\n",
    "from sklearn.metrics.pairwise import cosine_similarity\n",
    "import numpy as np"
   ]
  },
  {
   "cell_type": "code",
   "execution_count": 87,
   "id": "dbecf011",
   "metadata": {},
   "outputs": [],
   "source": [
    "df=pd.read_csv(\"books.csv\")"
   ]
  },
  {
   "cell_type": "code",
   "execution_count": 88,
   "id": "1c58ea94",
   "metadata": {},
   "outputs": [
    {
     "data": {
      "text/html": [
       "<div>\n",
       "<style scoped>\n",
       "    .dataframe tbody tr th:only-of-type {\n",
       "        vertical-align: middle;\n",
       "    }\n",
       "\n",
       "    .dataframe tbody tr th {\n",
       "        vertical-align: top;\n",
       "    }\n",
       "\n",
       "    .dataframe thead th {\n",
       "        text-align: right;\n",
       "    }\n",
       "</style>\n",
       "<table border=\"1\" class=\"dataframe\">\n",
       "  <thead>\n",
       "    <tr style=\"text-align: right;\">\n",
       "      <th></th>\n",
       "      <th>Title</th>\n",
       "      <th>Author</th>\n",
       "      <th>Genre</th>\n",
       "      <th>Height</th>\n",
       "      <th>Publisher</th>\n",
       "      <th>Index</th>\n",
       "    </tr>\n",
       "  </thead>\n",
       "  <tbody>\n",
       "    <tr>\n",
       "      <th>0</th>\n",
       "      <td>Fundamentals of Wavelets</td>\n",
       "      <td>Goswami, Jaideva</td>\n",
       "      <td>signal_processing</td>\n",
       "      <td>228</td>\n",
       "      <td>Wiley</td>\n",
       "      <td>0</td>\n",
       "    </tr>\n",
       "    <tr>\n",
       "      <th>1</th>\n",
       "      <td>Data Smart</td>\n",
       "      <td>Foreman, John</td>\n",
       "      <td>data_science</td>\n",
       "      <td>235</td>\n",
       "      <td>Wiley</td>\n",
       "      <td>1</td>\n",
       "    </tr>\n",
       "    <tr>\n",
       "      <th>2</th>\n",
       "      <td>God Created the Integers</td>\n",
       "      <td>Hawking, Stephen</td>\n",
       "      <td>mathematics</td>\n",
       "      <td>197</td>\n",
       "      <td>Penguin</td>\n",
       "      <td>2</td>\n",
       "    </tr>\n",
       "    <tr>\n",
       "      <th>3</th>\n",
       "      <td>Superfreakonomics</td>\n",
       "      <td>Dubner, Stephen</td>\n",
       "      <td>economics</td>\n",
       "      <td>179</td>\n",
       "      <td>HarperCollins</td>\n",
       "      <td>3</td>\n",
       "    </tr>\n",
       "    <tr>\n",
       "      <th>4</th>\n",
       "      <td>Orientalism</td>\n",
       "      <td>Said, Edward</td>\n",
       "      <td>history</td>\n",
       "      <td>197</td>\n",
       "      <td>Penguin</td>\n",
       "      <td>4</td>\n",
       "    </tr>\n",
       "  </tbody>\n",
       "</table>\n",
       "</div>"
      ],
      "text/plain": [
       "                      Title            Author              Genre  Height  \\\n",
       "0  Fundamentals of Wavelets  Goswami, Jaideva  signal_processing     228   \n",
       "1                Data Smart     Foreman, John       data_science     235   \n",
       "2  God Created the Integers  Hawking, Stephen        mathematics     197   \n",
       "3         Superfreakonomics   Dubner, Stephen          economics     179   \n",
       "4               Orientalism      Said, Edward            history     197   \n",
       "\n",
       "       Publisher  Index  \n",
       "0          Wiley      0  \n",
       "1          Wiley      1  \n",
       "2        Penguin      2  \n",
       "3  HarperCollins      3  \n",
       "4        Penguin      4  "
      ]
     },
     "execution_count": 88,
     "metadata": {},
     "output_type": "execute_result"
    }
   ],
   "source": [
    "df.head()"
   ]
  },
  {
   "cell_type": "code",
   "execution_count": 89,
   "id": "4a533494",
   "metadata": {},
   "outputs": [
    {
     "data": {
      "text/plain": [
       "(211, 6)"
      ]
     },
     "execution_count": 89,
     "metadata": {},
     "output_type": "execute_result"
    }
   ],
   "source": [
    "df.shape"
   ]
  },
  {
   "cell_type": "code",
   "execution_count": 90,
   "id": "069e74d3",
   "metadata": {},
   "outputs": [
    {
     "name": "stdout",
     "output_type": "stream",
     "text": [
      "['Title', 'Author', 'Genre', 'Publisher']\n"
     ]
    }
   ],
   "source": [
    "selected_features = ['Title','Author','Genre','Publisher']\n",
    "print(selected_features)"
   ]
  },
  {
   "cell_type": "code",
   "execution_count": 91,
   "id": "25e144e5",
   "metadata": {},
   "outputs": [
    {
     "data": {
      "text/html": [
       "<div>\n",
       "<style scoped>\n",
       "    .dataframe tbody tr th:only-of-type {\n",
       "        vertical-align: middle;\n",
       "    }\n",
       "\n",
       "    .dataframe tbody tr th {\n",
       "        vertical-align: top;\n",
       "    }\n",
       "\n",
       "    .dataframe thead th {\n",
       "        text-align: right;\n",
       "    }\n",
       "</style>\n",
       "<table border=\"1\" class=\"dataframe\">\n",
       "  <thead>\n",
       "    <tr style=\"text-align: right;\">\n",
       "      <th></th>\n",
       "      <th>Title</th>\n",
       "      <th>Author</th>\n",
       "      <th>Genre</th>\n",
       "      <th>Height</th>\n",
       "      <th>Publisher</th>\n",
       "      <th>Index</th>\n",
       "    </tr>\n",
       "  </thead>\n",
       "  <tbody>\n",
       "    <tr>\n",
       "      <th>0</th>\n",
       "      <td>Fundamentals of Wavelets</td>\n",
       "      <td>Goswami, Jaideva</td>\n",
       "      <td>signal_processing</td>\n",
       "      <td>228</td>\n",
       "      <td>Wiley</td>\n",
       "      <td>0</td>\n",
       "    </tr>\n",
       "    <tr>\n",
       "      <th>1</th>\n",
       "      <td>Data Smart</td>\n",
       "      <td>Foreman, John</td>\n",
       "      <td>data_science</td>\n",
       "      <td>235</td>\n",
       "      <td>Wiley</td>\n",
       "      <td>1</td>\n",
       "    </tr>\n",
       "    <tr>\n",
       "      <th>2</th>\n",
       "      <td>God Created the Integers</td>\n",
       "      <td>Hawking, Stephen</td>\n",
       "      <td>mathematics</td>\n",
       "      <td>197</td>\n",
       "      <td>Penguin</td>\n",
       "      <td>2</td>\n",
       "    </tr>\n",
       "    <tr>\n",
       "      <th>3</th>\n",
       "      <td>Superfreakonomics</td>\n",
       "      <td>Dubner, Stephen</td>\n",
       "      <td>economics</td>\n",
       "      <td>179</td>\n",
       "      <td>HarperCollins</td>\n",
       "      <td>3</td>\n",
       "    </tr>\n",
       "    <tr>\n",
       "      <th>4</th>\n",
       "      <td>Orientalism</td>\n",
       "      <td>Said, Edward</td>\n",
       "      <td>history</td>\n",
       "      <td>197</td>\n",
       "      <td>Penguin</td>\n",
       "      <td>4</td>\n",
       "    </tr>\n",
       "    <tr>\n",
       "      <th>...</th>\n",
       "      <td>...</td>\n",
       "      <td>...</td>\n",
       "      <td>...</td>\n",
       "      <td>...</td>\n",
       "      <td>...</td>\n",
       "      <td>...</td>\n",
       "    </tr>\n",
       "    <tr>\n",
       "      <th>206</th>\n",
       "      <td>Structure and Randomness</td>\n",
       "      <td>Tao, Terence</td>\n",
       "      <td>mathematics</td>\n",
       "      <td>252</td>\n",
       "      <td>unknown</td>\n",
       "      <td>206</td>\n",
       "    </tr>\n",
       "    <tr>\n",
       "      <th>207</th>\n",
       "      <td>Image Processing with MATLAB</td>\n",
       "      <td>Eddins, Steve</td>\n",
       "      <td>signal_processing</td>\n",
       "      <td>241</td>\n",
       "      <td>unknown</td>\n",
       "      <td>207</td>\n",
       "    </tr>\n",
       "    <tr>\n",
       "      <th>208</th>\n",
       "      <td>Animal Farm</td>\n",
       "      <td>Orwell, George</td>\n",
       "      <td>fiction</td>\n",
       "      <td>180</td>\n",
       "      <td>unknown</td>\n",
       "      <td>208</td>\n",
       "    </tr>\n",
       "    <tr>\n",
       "      <th>209</th>\n",
       "      <td>Idiot, The</td>\n",
       "      <td>Dostoevsky, Fyodor</td>\n",
       "      <td>fiction</td>\n",
       "      <td>197</td>\n",
       "      <td>unknown</td>\n",
       "      <td>209</td>\n",
       "    </tr>\n",
       "    <tr>\n",
       "      <th>210</th>\n",
       "      <td>Christmas Carol, A</td>\n",
       "      <td>Dickens, Charles</td>\n",
       "      <td>fiction</td>\n",
       "      <td>196</td>\n",
       "      <td>unknown</td>\n",
       "      <td>210</td>\n",
       "    </tr>\n",
       "  </tbody>\n",
       "</table>\n",
       "<p>211 rows × 6 columns</p>\n",
       "</div>"
      ],
      "text/plain": [
       "                            Title              Author              Genre  \\\n",
       "0        Fundamentals of Wavelets    Goswami, Jaideva  signal_processing   \n",
       "1                      Data Smart       Foreman, John       data_science   \n",
       "2        God Created the Integers    Hawking, Stephen        mathematics   \n",
       "3               Superfreakonomics     Dubner, Stephen          economics   \n",
       "4                     Orientalism        Said, Edward            history   \n",
       "..                            ...                 ...                ...   \n",
       "206      Structure and Randomness        Tao, Terence        mathematics   \n",
       "207  Image Processing with MATLAB       Eddins, Steve  signal_processing   \n",
       "208                   Animal Farm      Orwell, George            fiction   \n",
       "209                    Idiot, The  Dostoevsky, Fyodor            fiction   \n",
       "210            Christmas Carol, A    Dickens, Charles            fiction   \n",
       "\n",
       "     Height      Publisher  Index  \n",
       "0       228          Wiley      0  \n",
       "1       235          Wiley      1  \n",
       "2       197        Penguin      2  \n",
       "3       179  HarperCollins      3  \n",
       "4       197        Penguin      4  \n",
       "..      ...            ...    ...  \n",
       "206     252        unknown    206  \n",
       "207     241        unknown    207  \n",
       "208     180        unknown    208  \n",
       "209     197        unknown    209  \n",
       "210     196        unknown    210  \n",
       "\n",
       "[211 rows x 6 columns]"
      ]
     },
     "execution_count": 91,
     "metadata": {},
     "output_type": "execute_result"
    }
   ],
   "source": [
    "df.fillna('unknown')"
   ]
  },
  {
   "cell_type": "code",
   "execution_count": 92,
   "id": "aa1f693e",
   "metadata": {},
   "outputs": [],
   "source": [
    "\n",
    "for feature in selected_features:\n",
    "    if feature in df.columns:\n",
    "        df[feature] = df[feature].fillna('')\n",
    "\n",
    "combined_features = df['Title']+' '+df['Author']+' '+df['Genre']+' '+df['Publisher']"
   ]
  },
  {
   "cell_type": "code",
   "execution_count": 93,
   "id": "19403094",
   "metadata": {},
   "outputs": [
    {
     "name": "stdout",
     "output_type": "stream",
     "text": [
      "0      Fundamentals of Wavelets Goswami, Jaideva sign...\n",
      "1            Data Smart Foreman, John data_science Wiley\n",
      "2      God Created the Integers Hawking, Stephen math...\n",
      "3      Superfreakonomics Dubner, Stephen economics Ha...\n",
      "4               Orientalism Said, Edward history Penguin\n",
      "                             ...                        \n",
      "206    Structure and Randomness Tao, Terence mathemat...\n",
      "207    Image Processing with MATLAB Eddins, Steve sig...\n",
      "208                  Animal Farm Orwell, George fiction \n",
      "209               Idiot, The Dostoevsky, Fyodor fiction \n",
      "210         Christmas Carol, A Dickens, Charles fiction \n",
      "Length: 211, dtype: object\n"
     ]
    }
   ],
   "source": [
    "print(combined_features)"
   ]
  },
  {
   "cell_type": "code",
   "execution_count": 94,
   "id": "9769f86b",
   "metadata": {},
   "outputs": [],
   "source": [
    "combined_features = combined_features.fillna('')"
   ]
  },
  {
   "cell_type": "code",
   "execution_count": 95,
   "id": "09083406",
   "metadata": {},
   "outputs": [],
   "source": [
    "vectorizer = TfidfVectorizer()"
   ]
  },
  {
   "cell_type": "code",
   "execution_count": 96,
   "id": "c2d7aa83",
   "metadata": {},
   "outputs": [],
   "source": [
    "feature_vectors = vectorizer.fit_transform(combined_features)"
   ]
  },
  {
   "cell_type": "code",
   "execution_count": 97,
   "id": "257f0374",
   "metadata": {},
   "outputs": [
    {
     "name": "stdout",
     "output_type": "stream",
     "text": [
      "  (0, 639)\t0.38508442233932055\n",
      "  (0, 530)\t0.3640151121863299\n",
      "  (0, 294)\t0.4147799471460624\n",
      "  (0, 233)\t0.4147799471460624\n",
      "  (0, 629)\t0.4147799471460624\n",
      "  (0, 417)\t0.17616290061645812\n",
      "  (0, 217)\t0.4147799471460624\n",
      "  (1, 130)\t0.2947926202309474\n",
      "  (1, 302)\t0.32927638372940826\n",
      "  (1, 204)\t0.48166091336569306\n",
      "  (1, 538)\t0.48166091336569306\n",
      "  (1, 129)\t0.3751166483689138\n",
      "  (1, 639)\t0.4471771498672322\n",
      "  (2, 443)\t0.20954510755616926\n",
      "  (2, 365)\t0.341469397147513\n",
      "  (2, 552)\t0.3551078624691722\n",
      "  (2, 252)\t0.3933198966227683\n",
      "  (2, 286)\t0.4236504944594545\n",
      "  (2, 582)\t0.14229595664317748\n",
      "  (2, 120)\t0.4236504944594545\n",
      "  (2, 231)\t0.4236504944594545\n",
      "  (3, 249)\t0.40710388908710715\n",
      "  (3, 174)\t0.3653858176520641\n",
      "  (3, 164)\t0.48530919012371093\n",
      "  (3, 564)\t0.5227334801189049\n",
      "  :\t:\n",
      "  (206, 574)\t0.4086956854974872\n",
      "  (206, 559)\t0.4323511214056754\n",
      "  (206, 365)\t0.37535522115740577\n",
      "  (207, 553)\t0.4048681294814102\n",
      "  (207, 175)\t0.4048681294814102\n",
      "  (207, 366)\t0.4048681294814102\n",
      "  (207, 644)\t0.31531056713989813\n",
      "  (207, 469)\t0.3758822258349144\n",
      "  (207, 278)\t0.3758822258349144\n",
      "  (207, 530)\t0.35531639990770025\n",
      "  (208, 193)\t0.5081747015891114\n",
      "  (208, 31)\t0.5081747015891114\n",
      "  (208, 225)\t0.471792724685382\n",
      "  (208, 429)\t0.471792724685382\n",
      "  (208, 195)\t0.19580652491048878\n",
      "  (209, 276)\t0.5787836049662637\n",
      "  (209, 218)\t0.5373464935116958\n",
      "  (209, 155)\t0.5373464935116958\n",
      "  (209, 195)\t0.22301308193661862\n",
      "  (209, 582)\t0.19440214949623658\n",
      "  (210, 95)\t0.4909714181625793\n",
      "  (210, 146)\t0.4909714181625793\n",
      "  (210, 88)\t0.4909714181625793\n",
      "  (210, 97)\t0.4909714181625793\n",
      "  (210, 195)\t0.18917786918586144\n"
     ]
    }
   ],
   "source": [
    "print(feature_vectors)"
   ]
  },
  {
   "cell_type": "code",
   "execution_count": 98,
   "id": "8d50af27",
   "metadata": {},
   "outputs": [],
   "source": [
    "similarity = cosine_similarity(feature_vectors)"
   ]
  },
  {
   "cell_type": "code",
   "execution_count": 99,
   "id": "6a10f290",
   "metadata": {},
   "outputs": [
    {
     "name": "stdout",
     "output_type": "stream",
     "text": [
      "[[1.         0.17220095 0.         ... 0.         0.         0.        ]\n",
      " [0.17220095 1.         0.         ... 0.         0.         0.        ]\n",
      " [0.         0.         1.         ... 0.         0.02766264 0.        ]\n",
      " ...\n",
      " [0.         0.         0.         ... 1.         0.04366742 0.03704226]\n",
      " [0.         0.         0.02766264 ... 0.04366742 1.         0.04218914]\n",
      " [0.         0.         0.         ... 0.03704226 0.04218914 1.        ]]\n"
     ]
    }
   ],
   "source": [
    "print(similarity)"
   ]
  },
  {
   "cell_type": "code",
   "execution_count": 100,
   "id": "3d983c99",
   "metadata": {},
   "outputs": [
    {
     "name": "stdout",
     "output_type": "stream",
     "text": [
      "(211, 211)\n"
     ]
    }
   ],
   "source": [
    "print(similarity.shape)"
   ]
  },
  {
   "cell_type": "code",
   "execution_count": 102,
   "id": "13f67cb8",
   "metadata": {},
   "outputs": [
    {
     "name": "stdout",
     "output_type": "stream",
     "text": [
      " Enter your favourite book name : Birth of a Theorem\n"
     ]
    }
   ],
   "source": [
    "book_name = input(' Enter your favourite book name : ')"
   ]
  },
  {
   "cell_type": "code",
   "execution_count": 103,
   "id": "d3a78661",
   "metadata": {},
   "outputs": [
    {
     "name": "stdout",
     "output_type": "stream",
     "text": [
      "books suggested for you:\n",
      "\n",
      "1 . Birth of a Theorem\n",
      "2 . Men of Mathematics\n",
      "3 . Prisoner of Birth, A\n",
      "4 . Analysis, Vol I\n",
      "5 . Structure and Randomness\n",
      "6 . God Created the Integers\n",
      "7 . Empire of the Mughal - Ruler of the World\n",
      "8 . Clash of Civilizations and Remaking of the World Order\n",
      "9 . Death of Superman, The\n",
      "10 . History of the DC Universe\n",
      "11 . Journal of a Novel\n",
      "12 . Grapes of Wrath, The\n",
      "13 . Short History of the World, A\n",
      "14 . City of Djinns\n",
      "15 . Trembling of a Leaf, The\n",
      "16 . Idea of Justice, The\n",
      "17 . Phantom of Manhattan, The\n",
      "18 . Justice League: Throne of Atlantis\n",
      "19 . Tao of Physics, The\n",
      "20 . Age of the Warrior, The\n",
      "21 . Tales of Beedle the Bard\n",
      "22 . Return of the Primitive\n",
      "23 . Discovery of India, The\n",
      "24 . Sea of Poppies\n",
      "25 . Age of Wrath, The\n",
      "26 . City of Joy, The\n",
      "27 . Theory of Everything, The\n",
      "28 . Elements of Information Theory\n",
      "29 . Winter of Our Discontent, The\n"
     ]
    }
   ],
   "source": [
    "list_of_all_titles = df['Title'].tolist()\n",
    "\n",
    "find_close_match = difflib.get_close_matches(book_name, list_of_all_titles)\n",
    "\n",
    "close_match = find_close_match[0]\n",
    "\n",
    "index_of_the_book = df[df['Title'] == close_match]['Index'].values[0]\n",
    "\n",
    "similarity_score = list(enumerate(similarity[index_of_the_book]))\n",
    "\n",
    "sorted_similar_books = sorted(similarity_score, key=lambda x: x[1], reverse=True)\n",
    "\n",
    "print('books suggested for you:\\n')\n",
    "\n",
    "i = 1\n",
    "\n",
    "for book in sorted_similar_books:\n",
    "    Index = book[0]\n",
    "    title_from_index = df[df['Index'] == Index]['Title'].values[0]\n",
    "    if (i < 30):\n",
    "        print(i, '.', title_from_index)\n",
    "        i += 1\n"
   ]
  },
  {
   "cell_type": "code",
   "execution_count": null,
   "id": "b84217fb",
   "metadata": {},
   "outputs": [],
   "source": []
  }
 ],
 "metadata": {
  "kernelspec": {
   "display_name": "Python 3 (ipykernel)",
   "language": "python",
   "name": "python3"
  },
  "language_info": {
   "codemirror_mode": {
    "name": "ipython",
    "version": 3
   },
   "file_extension": ".py",
   "mimetype": "text/x-python",
   "name": "python",
   "nbconvert_exporter": "python",
   "pygments_lexer": "ipython3",
   "version": "3.9.13"
  }
 },
 "nbformat": 4,
 "nbformat_minor": 5
}
